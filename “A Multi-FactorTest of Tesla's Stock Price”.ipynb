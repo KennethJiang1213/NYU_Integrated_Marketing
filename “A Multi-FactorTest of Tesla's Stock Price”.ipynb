import pandas as pd
import numpy as np

pip install pingouin

df = pd.read_csv('https://raw.githubusercontent.com/sunshineluyao/NYU_Integrated_Marketing/main/Regressions/customer_churn_train.csv')
df=df.dropna()
df.head()

df.columns
